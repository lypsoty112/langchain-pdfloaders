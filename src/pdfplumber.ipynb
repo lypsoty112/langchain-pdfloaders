{
 "cells": [
  {
   "cell_type": "code",
   "execution_count": 2,
   "metadata": {},
   "outputs": [
    {
     "name": "stdout",
     "output_type": "stream",
     "text": [
      "Collecting pdfplumber\n",
      "  Obtaining dependency information for pdfplumber from https://files.pythonhosted.org/packages/f8/d3/f58c2d5d86a585e438c6708f568eca79e7c4e6ee3d5210cf8b31d38cb021/pdfplumber-0.10.3-py3-none-any.whl.metadata\n",
      "  Using cached pdfplumber-0.10.3-py3-none-any.whl.metadata (38 kB)\n",
      "Collecting pdfminer.six==20221105 (from pdfplumber)\n",
      "  Using cached pdfminer.six-20221105-py3-none-any.whl (5.6 MB)\n",
      "Requirement already satisfied: Pillow>=9.1 in c:\\users\\maarten boon\\documents\\projects\\langchain-pdfloaders\\.venv\\lib\\site-packages (from pdfplumber) (10.2.0)\n",
      "Collecting pypdfium2>=4.18.0 (from pdfplumber)\n",
      "  Obtaining dependency information for pypdfium2>=4.18.0 from https://files.pythonhosted.org/packages/88/ad/4d3d28df04a93de73efccc5e49a810436c7fdfd4ea97852af99434910841/pypdfium2-4.27.0-py3-none-win_amd64.whl.metadata\n",
      "  Downloading pypdfium2-4.27.0-py3-none-win_amd64.whl.metadata (48 kB)\n",
      "     ---------------------------------------- 0.0/48.1 kB ? eta -:--:--\n",
      "     ---------------- --------------------- 20.5/48.1 kB 682.7 kB/s eta 0:00:01\n",
      "     -------------------------------- ----- 41.0/48.1 kB 667.8 kB/s eta 0:00:01\n",
      "     -------------------------------------- 48.1/48.1 kB 407.2 kB/s eta 0:00:00\n",
      "Requirement already satisfied: charset-normalizer>=2.0.0 in c:\\users\\maarten boon\\documents\\projects\\langchain-pdfloaders\\.venv\\lib\\site-packages (from pdfminer.six==20221105->pdfplumber) (3.3.2)\n",
      "Requirement already satisfied: cryptography>=36.0.0 in c:\\users\\maarten boon\\documents\\projects\\langchain-pdfloaders\\.venv\\lib\\site-packages (from pdfminer.six==20221105->pdfplumber) (42.0.2)\n",
      "Requirement already satisfied: cffi>=1.12 in c:\\users\\maarten boon\\documents\\projects\\langchain-pdfloaders\\.venv\\lib\\site-packages (from cryptography>=36.0.0->pdfminer.six==20221105->pdfplumber) (1.16.0)\n",
      "Requirement already satisfied: pycparser in c:\\users\\maarten boon\\documents\\projects\\langchain-pdfloaders\\.venv\\lib\\site-packages (from cffi>=1.12->cryptography>=36.0.0->pdfminer.six==20221105->pdfplumber) (2.21)\n",
      "Using cached pdfplumber-0.10.3-py3-none-any.whl (48 kB)\n",
      "Downloading pypdfium2-4.27.0-py3-none-win_amd64.whl (2.7 MB)\n",
      "   ---------------------------------------- 0.0/2.7 MB ? eta -:--:--\n",
      "   -- ------------------------------------- 0.2/2.7 MB 3.1 MB/s eta 0:00:01\n",
      "   ----- ---------------------------------- 0.4/2.7 MB 3.7 MB/s eta 0:00:01\n",
      "   -------- ------------------------------- 0.6/2.7 MB 4.3 MB/s eta 0:00:01\n",
      "   ---------- ----------------------------- 0.7/2.7 MB 4.2 MB/s eta 0:00:01\n",
      "   ------------- -------------------------- 0.9/2.7 MB 3.8 MB/s eta 0:00:01\n",
      "   --------------- ------------------------ 1.0/2.7 MB 3.9 MB/s eta 0:00:01\n",
      "   ------------------ --------------------- 1.2/2.7 MB 3.9 MB/s eta 0:00:01\n",
      "   -------------------- ------------------- 1.4/2.7 MB 3.8 MB/s eta 0:00:01\n",
      "   ----------------------- ---------------- 1.6/2.7 MB 3.9 MB/s eta 0:00:01\n",
      "   -------------------------- ------------- 1.8/2.7 MB 3.9 MB/s eta 0:00:01\n",
      "   ----------------------------- ---------- 2.0/2.7 MB 4.0 MB/s eta 0:00:01\n",
      "   -------------------------------- ------- 2.2/2.7 MB 4.0 MB/s eta 0:00:01\n",
      "   ---------------------------------- ----- 2.4/2.7 MB 4.0 MB/s eta 0:00:01\n",
      "   ------------------------------------- -- 2.6/2.7 MB 4.0 MB/s eta 0:00:01\n",
      "   ---------------------------------------  2.7/2.7 MB 4.0 MB/s eta 0:00:01\n",
      "   ---------------------------------------  2.7/2.7 MB 4.0 MB/s eta 0:00:01\n",
      "   ---------------------------------------  2.7/2.7 MB 4.0 MB/s eta 0:00:01\n",
      "   ---------------------------------------  2.7/2.7 MB 4.0 MB/s eta 0:00:01\n",
      "   ---------------------------------------  2.7/2.7 MB 4.0 MB/s eta 0:00:01\n",
      "   ---------------------------------------  2.7/2.7 MB 4.0 MB/s eta 0:00:01\n",
      "   ---------------------------------------  2.7/2.7 MB 4.0 MB/s eta 0:00:01\n",
      "   ---------------------------------------  2.7/2.7 MB 4.0 MB/s eta 0:00:01\n",
      "   ---------------------------------------  2.7/2.7 MB 4.0 MB/s eta 0:00:01\n",
      "   ---------------------------------------  2.7/2.7 MB 4.0 MB/s eta 0:00:01\n",
      "   ---------------------------------------  2.7/2.7 MB 4.0 MB/s eta 0:00:01\n",
      "   ---------------------------------------  2.7/2.7 MB 4.0 MB/s eta 0:00:01\n",
      "   ---------------------------------------  2.7/2.7 MB 4.0 MB/s eta 0:00:01\n",
      "   ---------------------------------------  2.7/2.7 MB 4.0 MB/s eta 0:00:01\n",
      "   ---------------------------------------  2.7/2.7 MB 4.0 MB/s eta 0:00:01\n",
      "   ---------------------------------------  2.7/2.7 MB 4.0 MB/s eta 0:00:01\n",
      "   ---------------------------------------  2.7/2.7 MB 4.0 MB/s eta 0:00:01\n",
      "   ---------------------------------------  2.7/2.7 MB 4.0 MB/s eta 0:00:01\n",
      "   ---------------------------------------  2.7/2.7 MB 4.0 MB/s eta 0:00:01\n",
      "   ---------------------------------------  2.7/2.7 MB 4.0 MB/s eta 0:00:01\n",
      "   ---------------------------------------  2.7/2.7 MB 4.0 MB/s eta 0:00:01\n",
      "   ---------------------------------------  2.7/2.7 MB 4.0 MB/s eta 0:00:01\n",
      "   ---------------------------------------  2.7/2.7 MB 4.0 MB/s eta 0:00:01\n",
      "   ---------------------------------------  2.7/2.7 MB 4.0 MB/s eta 0:00:01\n",
      "   ---------------------------------------  2.7/2.7 MB 4.0 MB/s eta 0:00:01\n",
      "   ---------------------------------------  2.7/2.7 MB 4.0 MB/s eta 0:00:01\n",
      "   ---------------------------------------  2.7/2.7 MB 4.0 MB/s eta 0:00:01\n",
      "   ---------------------------------------  2.7/2.7 MB 4.0 MB/s eta 0:00:01\n",
      "   ---------------------------------------  2.7/2.7 MB 4.0 MB/s eta 0:00:01\n",
      "   ---------------------------------------  2.7/2.7 MB 4.0 MB/s eta 0:00:01\n",
      "   ---------------------------------------  2.7/2.7 MB 4.0 MB/s eta 0:00:01\n",
      "   ---------------------------------------  2.7/2.7 MB 4.0 MB/s eta 0:00:01\n",
      "   ---------------------------------------  2.7/2.7 MB 4.0 MB/s eta 0:00:01\n",
      "   ---------------------------------------  2.7/2.7 MB 4.0 MB/s eta 0:00:01\n",
      "   ---------------------------------------- 2.7/2.7 MB 1.2 MB/s eta 0:00:00\n",
      "Installing collected packages: pypdfium2, pdfminer.six, pdfplumber\n",
      "  Attempting uninstall: pdfminer.six\n",
      "    Found existing installation: pdfminer.six 20231228\n",
      "    Uninstalling pdfminer.six-20231228:\n",
      "      Successfully uninstalled pdfminer.six-20231228\n",
      "Successfully installed pdfminer.six-20221105 pdfplumber-0.10.3 pypdfium2-4.27.0\n",
      "Note: you may need to restart the kernel to use updated packages.\n"
     ]
    },
    {
     "name": "stderr",
     "output_type": "stream",
     "text": [
      "\n",
      "[notice] A new release of pip is available: 23.2.1 -> 24.0\n",
      "[notice] To update, run: python.exe -m pip install --upgrade pip\n"
     ]
    }
   ],
   "source": [
    "%pip install pdfplumber"
   ]
  },
  {
   "cell_type": "code",
   "execution_count": 5,
   "metadata": {},
   "outputs": [
    {
     "data": {
      "text/plain": [
       "Document(page_content=\"Gross Domestic Product (GDP) and Its\\nImpact\\nIntroduction to GDP:\\nGross Domestic Product (GDP) serves as a vital economic indicator, offering insight into the total\\neconomic output of a country within a specified timeframe. It encapsulates the total market value of\\nall goods and services produced within a nation's borders, encompassing consumption, investment,\\ngovernment spending, and net exports. As a quantitative measure, GDP provides a foundational\\nunderstanding of an economy's overall health and performance.\\nComponents of GDP:\\nGDP is dissected into several components that reflect different facets of economic activity:\\n1. Consumer Spending (C): This component gauges the expenditures made by households on a\\nwide array of goods and services, such as durable goods (cars, appliances), non-durable\\ngoods (food, clothing), and services (healthcare, entertainment). Consumer spending is\\ninfluenced by factors such as disposable income, consumer sentiment, and borrowing rates.\\n2. Business Investments (I): Business investments embody expenditures by companies on\\ncapital goods that facilitate future production. This includes machinery, equipment,\\ncommercial real estate, and research and development. Robust business investment\\nindicates confidence in economic prospects.\\n3. Government Expenditures (G): This component encompasses government spending on\\npublic services, infrastructure, and defense. It comprises both federal and state\\nexpenditures, including investments in education, healthcare, and public utilities.\\nGovernment spending can be a potent tool to stimulate economic activity during downturns.\\n4. Net Exports (X - M): Net exports reflect the disparity between a country's exports and\\nimports. A positive balance signifies that a nation is exporting more than it's importing,\\ncontributing favorably to GDP. Conversely, a negative balance indicates a trade deficit.\\nImpact of GDP:\\nGDP yields far-reaching implications for economies and societies:\\n1. Economic Growth: A mounting GDP often correlates with economic growth, indicating\\nincreased production and consumption. This engenders elevated living standards,\\naugmented job opportunities, and a general rise in prosperity.\\n2. Employment: Heightened GDP growth fosters elevated demand for labor, curtailing\\nunemployment rates. As enterprises expand to meet heightened demand, they recruit\\nadditional personnel, propelling job creation.\\n3. Standard of Living: An ascending GDP typically aligns with enhanced standards of living.\\nElevated GDP per capita generally equates to amplified income levels, augmented access to\\nhealthcare and education, and an improved quality of life.\\n\", metadata={'source': 'data/Gross Domestic Product.pdf', 'file_path': 'data/Gross Domestic Product.pdf', 'page': 0, 'total_pages': 3, 'Author': 'Maarten Boon', 'Creator': 'Microsoft® Word for Microsoft 365', 'CreationDate': \"D:20230827202135+02'00'\", 'ModDate': \"D:20230827202135+02'00'\", 'Producer': 'Microsoft® Word for Microsoft 365'})"
      ]
     },
     "execution_count": 5,
     "metadata": {},
     "output_type": "execute_result"
    }
   ],
   "source": [
    "from langchain_community.document_loaders import PDFPlumberLoader\n",
    "\n",
    "FILEPATH = \"data/Gross Domestic Product.pdf\"\n",
    "\n",
    "loader = PDFPlumberLoader(FILEPATH)\n",
    "\n",
    "data = loader.load()\n",
    "\n",
    "data[0]\n"
   ]
  }
 ],
 "metadata": {
  "kernelspec": {
   "display_name": ".venv",
   "language": "python",
   "name": "python3"
  },
  "language_info": {
   "codemirror_mode": {
    "name": "ipython",
    "version": 3
   },
   "file_extension": ".py",
   "mimetype": "text/x-python",
   "name": "python",
   "nbconvert_exporter": "python",
   "pygments_lexer": "ipython3",
   "version": "3.12.0"
  }
 },
 "nbformat": 4,
 "nbformat_minor": 2
}
