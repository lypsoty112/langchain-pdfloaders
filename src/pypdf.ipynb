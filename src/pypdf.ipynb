{
 "cells": [
  {
   "cell_type": "code",
   "execution_count": 2,
   "metadata": {},
   "outputs": [
    {
     "name": "stdout",
     "output_type": "stream",
     "text": [
      "Requirement already satisfied: pypdf in c:\\users\\maarten boon\\documents\\projects\\langchain-pdfloaders\\.venv\\lib\\site-packages (4.0.1)\n",
      "Note: you may need to restart the kernel to use updated packages.\n"
     ]
    },
    {
     "name": "stderr",
     "output_type": "stream",
     "text": [
      "\n",
      "[notice] A new release of pip is available: 23.2.1 -> 24.0\n",
      "[notice] To update, run: python.exe -m pip install --upgrade pip\n"
     ]
    }
   ],
   "source": [
    "%pip install pypdf"
   ]
  },
  {
   "cell_type": "code",
   "execution_count": 3,
   "metadata": {},
   "outputs": [],
   "source": [
    "from langchain_community.document_loaders import PyPDFLoader\n",
    "\n",
    "loader = PyPDFLoader(\"data/Test_medium.pdf\")\n",
    "pages = loader.load_and_split()"
   ]
  },
  {
   "cell_type": "code",
   "execution_count": 9,
   "metadata": {},
   "outputs": [
    {
     "data": {
      "text/plain": [
       "[Document(page_content='Costing\\nToegepaste informatica', metadata={'source': 'data/Test_medium.pdf', 'page': 0}),\n",
       " Document(page_content='Aanpak opleidingsonderdeel\\n•Lesmateriaal\\n–Uitsluitend via Leerpad op Chamilo\\n–Slides en templates worden ter beschikking gesteld\\n•Examen \\n–100% periodegebonden\\n–Schriftelijk en gesloten boek\\n–Eenvoudig rekentoestel meebrengen\\n•Contact docenten\\n–Joanna.chaltin@hogent.be\\n–Gilles.blondeel@hogent.be', metadata={'source': 'data/Test_medium.pdf', 'page': 1}),\n",
       " Document(page_content='De Balans', metadata={'source': 'data/Test_medium.pdf', 'page': 2}),\n",
       " Document(page_content='Sessie 1 –De (openings )Balans\\n WERKMIDDELEN\\n FINANCIERINGSMIDDELEN\\nWaar komt het geld vandaan? \\n Watwordt ermee gefinancierd?', metadata={'source': 'data/Test_medium.pdf', 'page': 3}),\n",
       " Document(page_content='Balans\\nTelkens nieuwe momentopname\\nWijzigingen in bezit & financiering\\nResultatenrekening\\nSituatie van énkel één jaar\\nOverzicht opbrengsten & kostenvs.', metadata={'source': 'data/Test_medium.pdf', 'page': 4}),\n",
       " Document(page_content='Verwijzing naar boekhouding\\nMate van LIQUIDEERBAARHEIDWijziging vorige momentopname', metadata={'source': 'data/Test_medium.pdf', 'page': 5}),\n",
       " Document(page_content='“rechten op…” bijv. goodwill, licenties, productdesign,… \\n“investeringen” in materiaal, gebouwen,... \\nHuurwaarborg of aandelen voor LT -deelnames\\nNotariskosten, ed.', metadata={'source': 'data/Test_medium.pdf', 'page': 6}),\n",
       " Document(page_content='Wat ligt er op inventarisdatum nog in voorraad? \\n= onverkochte goederen\\nHoeveel facturen moeten mijn klanten mij nog betalen? \\nHoeveel geld bezit ik nú op mijn bankrekening (of KT -belegging)', metadata={'source': 'data/Test_medium.pdf', 'page': 7}),\n",
       " Document(page_content='Het jaarlijks onderhoud van de website is een \\nimmaterieel vast actief', metadata={'source': 'data/Test_medium.pdf', 'page': 8}),\n",
       " Document(page_content='Verwijzing naar boekhouding\\nMate van OPEISBAARHEID\\nWijziging vorige momentopname', metadata={'source': 'data/Test_medium.pdf', 'page': 9})]"
      ]
     },
     "execution_count": 9,
     "metadata": {},
     "output_type": "execute_result"
    }
   ],
   "source": [
    "pages[0:10]"
   ]
  }
 ],
 "metadata": {
  "kernelspec": {
   "display_name": ".venv",
   "language": "python",
   "name": "python3"
  },
  "language_info": {
   "codemirror_mode": {
    "name": "ipython",
    "version": 3
   },
   "file_extension": ".py",
   "mimetype": "text/x-python",
   "name": "python",
   "nbconvert_exporter": "python",
   "pygments_lexer": "ipython3",
   "version": "3.12.0"
  }
 },
 "nbformat": 4,
 "nbformat_minor": 2
}
