{
 "cells": [
  {
   "cell_type": "code",
   "execution_count": 1,
   "metadata": {},
   "outputs": [
    {
     "data": {
      "text/plain": [
       "[Document(page_content=\"Gross Domestic Product (GDP) and Its \\r\\nImpact\\r\\nIntroduction to GDP:\\r\\nGross Domestic Product (GDP) serves as a vital economic indicator, offering insight into the total \\r\\neconomic output of a country within a specified timeframe. It encapsulates the total market value of \\r\\nall goods and services produced within a nation's borders, encompassing consumption, investment, \\r\\ngovernment spending, and net exports. As a quantitative measure, GDP provides a foundational \\r\\nunderstanding of an economy's overall health and performance.\\r\\nComponents of GDP:\\r\\nGDP is dissected into several components that reflect different facets of economic activity:\\r\\n1. Consumer Spending (C): This component gauges the expenditures made by households on a \\r\\nwide array of goods and services, such as durable goods (cars, appliances), non-durable \\r\\ngoods (food, clothing), and services (healthcare, entertainment). Consumer spending is \\r\\ninfluenced by factors such as disposable income, consumer sentiment, and borrowing rates.\\r\\n2. Business Investments (I): Business investments embody expenditures by companies on \\r\\ncapital goods that facilitate future production. This includes machinery, equipment, \\r\\ncommercial real estate, and research and development. Robust business investment \\r\\nindicates confidence in economic prospects.\\r\\n3. Government Expenditures (G): This component encompasses government spending on \\r\\npublic services, infrastructure, and defense. It comprises both federal and state \\r\\nexpenditures, including investments in education, healthcare, and public utilities. \\r\\nGovernment spending can be a potent tool to stimulate economic activity during downturns.\\r\\n4. Net Exports (X - M): Net exports reflect the disparity between a country's exports and \\r\\nimports. A positive balance signifies that a nation is exporting more than it's importing, \\r\\ncontributing favorably to GDP. Conversely, a negative balance indicates a trade deficit.\\r\\nImpact of GDP:\\r\\nGDP yields far-reaching implications for economies and societies:\\r\\n1. Economic Growth: A mounting GDP often correlates with economic growth, indicating \\r\\nincreased production and consumption. This engenders elevated living standards, \\r\\naugmented job opportunities, and a general rise in prosperity.\\r\\n2. Employment: Heightened GDP growth fosters elevated demand for labor, curtailing\\r\\nunemployment rates. As enterprises expand to meet heightened demand, they recruit \\r\\nadditional personnel, propelling job creation.\\r\\n3. Standard of Living: An ascending GDP typically aligns with enhanced standards of living. \\r\\nElevated GDP per capita generally equates to amplified income levels, augmented access to \\r\\nhealthcare and education, and an improved quality of life.\\n\", metadata={'source': 'data/Gross Domestic Product.pdf', 'page': 0}),\n",
       " Document(page_content=\"4. Investor Confidence: A robust GDP can allure foreign investment and buttress investor \\r\\nassurance. This engenders capital inflows, technological advancements, and expanded trade \\r\\navenues.\\r\\n5. Fiscal Policy: Governments employ GDP growth as a yardstick to assess policy effectiveness. \\r\\nFurthermore, an augmented GDP augments government revenue through escalated tax \\r\\nproceeds, permitting funding for public services and development initiatives.\\r\\n6. Monetary Policy: Central banks use GDP data to formulate monetary policies. In periods of \\r\\nsubdued economic activity, they may implement measures to stimulate the economy, while \\r\\nduring periods of heightened growth, focus may shift to inflation control.\\r\\nOther Economic Indicators:\\r\\nTo complement GDP's insights, economists and policymakers analyze an array of economic indicators \\r\\nthat offer a multifaceted perspective on an economy's performance. Some key indicators include:\\r\\n1. Unemployment Rate: This gauges the proportion of the workforce that is jobless and \\r\\nactively seeking employment. A high unemployment rate can indicate economic distress.\\r\\n2. Inflation Rate: Inflation reflects the general rise in prices over time. Moderate inflation is \\r\\nconsidered healthy, as it indicates a growing economy, while hyperinflation can erode \\r\\npurchasing power.\\r\\n3. Consumer Price Index (CPI): CPI measures the average change in prices paid by consumers \\r\\nfor a basket of goods and services. It's a tool to track inflation's impact on consumers.\\r\\n4. Balance of Trade: This compares a country's exports to its imports. A trade surplus occurs \\r\\nwhen exports exceed imports, while a trade deficit indicates the opposite.\\r\\n5. Industrial Production Index: This measures the output of industrial sectors like \\r\\nmanufacturing, mining, and utilities. It's a gauge of an economy's productive capacity.\\r\\nConclusion:\\r\\nGDP is a cornerstone of economic analysis, offering a snapshot of economic activity. Its influence \\r\\nspans various domains of society, affecting living standards, policymaking, and international \\r\\ninteractions. However, recognizing its limitations, economists and policymakers are continually \\r\\nworking to develop more comprehensive indicators that encompass social and environmental \\r\\ndimensions, ultimately painting a more holistic portrait of an economy's health.\\r\\nTable of Economic Indicators:\\r\\nIndicator Description Purpose\\r\\nGross Domestic Product Total value of goods and services \\r\\nproduced\\r\\nMeasure economic performance\\r\\nUnemployment Rate Proportion of jobless workforce Assess labor market health\\r\\nInflation Rate General increase in prices Monitor purchasing power and price \\r\\nstability\\r\\nConsumer Price Index \\r\\n(CPI)\\r\\nAverage change in consumer prices Track inflation's impact on consumers\\n\", metadata={'source': 'data/Gross Domestic Product.pdf', 'page': 1}),\n",
       " Document(page_content=\"Balance of Trade Comparison of exports to imports Evaluate trade dynamics\\r\\nIndustrial Production \\r\\nIndex\\r\\nOutput of industrial sectors Gauge productive capacity\\r\\nThese indicators collectively provide a comprehensive view of an economy's status and offer insights \\r\\ninto its functioning and prospects.\\n\", metadata={'source': 'data/Gross Domestic Product.pdf', 'page': 2})]"
      ]
     },
     "execution_count": 1,
     "metadata": {},
     "output_type": "execute_result"
    }
   ],
   "source": [
    "from langchain_community.document_loaders import PyPDFium2Loader\n",
    "\n",
    "FILEPATH = \"data/Gross Domestic Product.pdf\"\n",
    "\n",
    "\n",
    "loader = PyPDFium2Loader(FILEPATH)\n",
    "data = loader.load()\n",
    "data\n"
   ]
  }
 ],
 "metadata": {
  "kernelspec": {
   "display_name": ".venv",
   "language": "python",
   "name": "python3"
  },
  "language_info": {
   "codemirror_mode": {
    "name": "ipython",
    "version": 3
   },
   "file_extension": ".py",
   "mimetype": "text/x-python",
   "name": "python",
   "nbconvert_exporter": "python",
   "pygments_lexer": "ipython3",
   "version": "3.12.0"
  }
 },
 "nbformat": 4,
 "nbformat_minor": 2
}
