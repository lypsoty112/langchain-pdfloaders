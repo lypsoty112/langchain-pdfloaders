{
 "cells": [
  {
   "cell_type": "code",
   "execution_count": 8,
   "metadata": {},
   "outputs": [
    {
     "data": {
      "text/plain": [
       "[Document(page_content=\"Gross Domestic Product (GDP) and Its \\nImpact \\n\\nIntroduction to GDP: \\nGross Domestic Product (GDP) serves as a vital economic indicator, offering insight into the total \\neconomic output of a country within a specified timeframe. It encapsulates the total market value of \\nall goods and services produced within a nation's borders, encompassing consumption, investment, \\ngovernment spending, and net exports. As a quantitative measure, GDP provides a foundational \\nunderstanding of an economy's overall health and performance. \\n\\nComponents of GDP: \\nGDP is dissected into several components that reflect different facets of economic activity: \\n\\n1.  Consumer Spending (C): This component gauges the expenditures made by households on a \\nwide array of goods and services, such as durable goods (cars, appliances), non-durable \\ngoods (food, clothing), and services (healthcare, entertainment). Consumer spending is \\ninfluenced by factors such as disposable income, consumer sentiment, and borrowing rates. \\n\\n2.  Business Investments (I): Business investments embody expenditures by companies on \\ncapital goods that facilitate future production. This includes machinery, equipment, \\ncommercial real estate, and research and development. Robust business investment \\nindicates confidence in economic prospects. \\n\\n3.  Government Expenditures (G): This component encompasses government spending on \\n\\npublic services, infrastructure, and defense. It comprises both federal and state \\nexpenditures, including investments in education, healthcare, and public utilities. \\nGovernment spending can be a potent tool to stimulate economic activity during downturns. \\n\\n4.  Net Exports (X - M): Net exports reflect the disparity between a country's exports and \\nimports. A positive balance signifies that a nation is exporting more than it's importing, \\ncontributing favorably to GDP. Conversely, a negative balance indicates a trade deficit. \\n\\nImpact of GDP:  \\n\\nGDP yields far-reaching implications for economies and societies: \\n\\n1.  Economic Growth: A mounting GDP often correlates with economic growth, indicating \\nincreased production and consumption. This engenders elevated living standards, \\naugmented job opportunities, and a general rise in prosperity. \\n\\n2.  Employment: Heightened GDP growth fosters elevated demand for labor, curtailing \\n\\nunemployment rates. As enterprises expand to meet heightened demand, they recruit \\nadditional personnel, propelling job creation. \\n\\n3.  Standard of Living: An ascending GDP typically aligns with enhanced standards of living. \\n\\nElevated GDP per capita generally equates to amplified income levels, augmented access to \\nhealthcare and education, and an improved quality of life. \\n\\n\\x0c4. \\n\\nInvestor Confidence: A robust GDP can allure foreign investment and buttress investor \\nassurance. This engenders capital inflows, technological advancements, and expanded trade \\navenues. \\n\\n5.  Fiscal Policy: Governments employ GDP growth as a yardstick to assess policy effectiveness. \\nFurthermore, an augmented GDP augments government revenue through escalated tax \\nproceeds, permitting funding for public services and development initiatives. \\n\\n6.  Monetary Policy: Central banks use GDP data to formulate monetary policies. In periods of \\nsubdued economic activity, they may implement measures to stimulate the economy, while \\nduring periods of heightened growth, focus may shift to inflation control. \\n\\nOther Economic Indicators:  \\n\\nTo complement GDP's insights, economists and policymakers analyze an array of economic indicators \\nthat offer a multifaceted perspective on an economy's performance. Some key indicators include: \\n\\n1.  Unemployment Rate: This gauges the proportion of the workforce that is jobless and \\n\\nactively seeking employment. A high unemployment rate can indicate economic distress. \\n\\n2. \\n\\nInflation Rate: Inflation reflects the general rise in prices over time. Moderate inflation is \\nconsidered healthy, as it indicates a growing economy, while hyperinflation can erode \\npurchasing power. \\n\\n3.  Consumer Price Index (CPI): CPI measures the average change in prices paid by consumers \\nfor a basket of goods and services. It's a tool to track inflation's impact on consumers. \\n\\n4.  Balance of Trade: This compares a country's exports to its imports. A trade surplus occurs \\n\\nwhen exports exceed imports, while a trade deficit indicates the opposite. \\n\\n5. \\n\\nIndustrial Production Index: This measures the output of industrial sectors like \\nmanufacturing, mining, and utilities. It's a gauge of an economy's productive capacity. \\n\\nConclusion:  \\n\\nGDP is a cornerstone of economic analysis, offering a snapshot of economic activity. Its influence \\nspans various domains of society, affecting living standards, policymaking, and international \\ninteractions. However, recognizing its limitations, economists and policymakers are continually \\nworking to develop more comprehensive indicators that encompass social and environmental \\ndimensions, ultimately painting a more holistic portrait of an economy's health. \\n\\nTable of Economic Indicators: \\nIndicator \\n\\nDescription \\n\\nPurpose \\n\\nGross Domestic Product \\n\\nTotal value of goods and services \\nproduced \\n\\nMeasure economic performance \\n\\nUnemployment Rate \\n\\nProportion of jobless workforce \\n\\nAssess labor market health \\n\\nInflation Rate \\n\\nGeneral increase in prices \\n\\nMonitor purchasing power and price \\nstability \\n\\nConsumer Price Index \\n(CPI) \\n\\nAverage change in consumer prices \\n\\nTrack inflation's impact on consumers \\n\\n\\x0cBalance of Trade \\n\\nComparison of exports to imports \\n\\nEvaluate trade dynamics \\n\\nIndustrial Production \\nIndex \\n\\nOutput of industrial sectors \\n\\nGauge productive capacity \\n\\nThese indicators collectively provide a comprehensive view of an economy's status and offer insights \\ninto its functioning and prospects. \\n\\n \\n\\x0c\", metadata={'source': 'data/Gross Domestic Product.pdf'})]"
      ]
     },
     "execution_count": 8,
     "metadata": {},
     "output_type": "execute_result"
    }
   ],
   "source": [
    "from langchain_community.document_loaders import PDFMinerLoader\n",
    "\n",
    "FILEPATH = \"data/Gross Domestic Product.pdf\"\n",
    "\n",
    "loader = PDFMinerLoader(FILEPATH)\n",
    "\n",
    "loader.load()\n"
   ]
  },
  {
   "cell_type": "code",
   "execution_count": 9,
   "metadata": {},
   "outputs": [
    {
     "name": "stderr",
     "output_type": "stream",
     "text": [
      "<>:21: SyntaxWarning: invalid escape sequence '\\d'\n",
      "<>:21: SyntaxWarning: invalid escape sequence '\\d'\n",
      "C:\\Users\\Maarten Boon\\AppData\\Local\\Temp\\ipykernel_28344\\169849045.py:21: SyntaxWarning: invalid escape sequence '\\d'\n",
      "  fs = re.findall(\"font-size:(\\d+)px\", st)\n"
     ]
    }
   ],
   "source": [
    "from langchain_community.document_loaders import PDFMinerPDFasHTMLLoader\n",
    "from bs4 import BeautifulSoup\n",
    "import re\n",
    "\n",
    "loader = PDFMinerPDFasHTMLLoader(FILEPATH)\n",
    "data = loader.load()[0]\n",
    "\n",
    "soup = BeautifulSoup(data.page_content, \"html.parser\")\n",
    "content = soup.find_all(\"div\")\n",
    "\n",
    "cur_fs = None\n",
    "cur_text = \"\"\n",
    "snippets = []  # first collect all snippets that have the same font size\n",
    "for c in content:\n",
    "    sp = c.find(\"span\")\n",
    "    if not sp:\n",
    "        continue\n",
    "    st = sp.get(\"style\")\n",
    "    if not st:\n",
    "        continue\n",
    "    fs = re.findall(\"font-size:(\\d+)px\", st)\n",
    "    if not fs:\n",
    "        continue\n",
    "    fs = int(fs[0])\n",
    "    if not cur_fs:\n",
    "        cur_fs = fs\n",
    "    if fs == cur_fs:\n",
    "        cur_text += c.text\n",
    "    else:\n",
    "        snippets.append((cur_text, cur_fs))\n",
    "        cur_fs = fs\n",
    "        cur_text = c.text\n",
    "snippets.append((cur_text, cur_fs))\n",
    "# Note: The above logic is very straightforward. One can also add more strategies such as removing duplicate snippets (as\n",
    "# headers/footers in a PDF appear on multiple pages so if we find duplicates it's safe to assume that it is redundant info)\n"
   ]
  },
  {
   "cell_type": "code",
   "execution_count": 10,
   "metadata": {},
   "outputs": [
    {
     "data": {
      "text/plain": [
       "[Document(page_content=\"Introduction to GDP: \\nGross Domestic Product (GDP) serves as a vital economic indicator, offering insight into the total \\neconomic output of a country within a specified timeframe. It encapsulates the total market value of \\nall goods and services produced within a nation's borders, encompassing consumption, investment, \\ngovernment spending, and net exports. As a quantitative measure, GDP provides a foundational \\nunderstanding of an economy's overall health and performance. \\nComponents of GDP: \\nGDP is dissected into several components that reflect different facets of economic activity: \\n1. Consumer Spending (C): This component gauges the expenditures made by households on a \\nwide array of goods and services, such as durable goods (cars, appliances), non-durable \\ngoods (food, clothing), and services (healthcare, entertainment). Consumer spending is \\ninfluenced by factors such as disposable income, consumer sentiment, and borrowing rates. \\n2. Business Investments (I): Business investments embody expenditures by companies on \\ncapital goods that facilitate future production. This includes machinery, equipment, \\ncommercial real estate, and research and development. Robust business investment \\nindicates confidence in economic prospects. \\n3. Government Expenditures (G): This component encompasses government spending on \\npublic services, infrastructure, and defense. It comprises both federal and state \\nexpenditures, including investments in education, healthcare, and public utilities. \\nGovernment spending can be a potent tool to stimulate economic activity during downturns. \\n4. Net Exports (X - M): Net exports reflect the disparity between a country's exports and \\nimports. A positive balance signifies that a nation is exporting more than it's importing, \\ncontributing favorably to GDP. Conversely, a negative balance indicates a trade deficit. \\nImpact of GDP:\\nGDP yields far-reaching implications for economies and societies: \\n1. Economic Growth: A mounting GDP often correlates with economic growth, indicating \\nincreased production and consumption. This engenders elevated living standards, \\naugmented job opportunities, and a general rise in prosperity. \\n2. Employment: Heightened GDP growth fosters elevated demand for labor, curtailing \\nunemployment rates. As enterprises expand to meet heightened demand, they recruit \\nadditional personnel, propelling job creation. \\n3. Standard of Living: An ascending GDP typically aligns with enhanced standards of living. \\nElevated GDP per capita generally equates to amplified income levels, augmented access to \\nhealthcare and education, and an improved quality of life. \\n4.\\nInvestor Confidence: A robust GDP can allure foreign investment and buttress investor \\nassurance. This engenders capital inflows, technological advancements, and expanded trade \\navenues. \\n5. Fiscal Policy: Governments employ GDP growth as a yardstick to assess policy effectiveness. \\nFurthermore, an augmented GDP augments government revenue through escalated tax \\nproceeds, permitting funding for public services and development initiatives. \\n6. Monetary Policy: Central banks use GDP data to formulate monetary policies. In periods of \\nsubdued economic activity, they may implement measures to stimulate the economy, while \\nduring periods of heightened growth, focus may shift to inflation control. \\nOther Economic Indicators:\\nTo complement GDP's insights, economists and policymakers analyze an array of economic indicators \\nthat offer a multifaceted perspective on an economy's performance. Some key indicators include: \\n1. Unemployment Rate: This gauges the proportion of the workforce that is jobless and \\nactively seeking employment. A high unemployment rate can indicate economic distress. \\n2.\\nInflation Rate: Inflation reflects the general rise in prices over time. Moderate inflation is \\nconsidered healthy, as it indicates a growing economy, while hyperinflation can erode \\npurchasing power. \\n3. Consumer Price Index (CPI): CPI measures the average change in prices paid by consumers \\nfor a basket of goods and services. It's a tool to track inflation's impact on consumers. \\n4. Balance of Trade: This compares a country's exports to its imports. A trade surplus occurs \\nwhen exports exceed imports, while a trade deficit indicates the opposite. \\n5.\\nIndustrial Production Index: This measures the output of industrial sectors like \\nmanufacturing, mining, and utilities. It's a gauge of an economy's productive capacity. \\nConclusion:\\nGDP is a cornerstone of economic analysis, offering a snapshot of economic activity. Its influence \\nspans various domains of society, affecting living standards, policymaking, and international \\ninteractions. However, recognizing its limitations, economists and policymakers are continually \\nworking to develop more comprehensive indicators that encompass social and environmental \\ndimensions, ultimately painting a more holistic portrait of an economy's health. \\nTable of Economic Indicators: \\nIndicator \\nDescription \\nPurpose \\nGross Domestic Product \\nTotal value of goods and services \\nproduced \\nMeasure economic performance \\nUnemployment Rate \\nProportion of jobless workforce \\nAssess labor market health \\nInflation Rate \\nGeneral increase in prices \\nMonitor purchasing power and price \\nstability \\nConsumer Price Index \\n(CPI) \\nAverage change in consumer prices \\nTrack inflation's impact on consumers \\nBalance of Trade \\nComparison of exports to imports \\nEvaluate trade dynamics \\nIndustrial Production \\nIndex \\nOutput of industrial sectors \\nGauge productive capacity \\nThese indicators collectively provide a comprehensive view of an economy's status and offer insights \\ninto its functioning and prospects. \\n\", metadata={'heading': 'Gross Domestic Product (GDP) and Its \\nImpact \\n', 'content_font': 12, 'heading_font': 27, 'source': 'data/Gross Domestic Product.pdf'})]"
      ]
     },
     "execution_count": 10,
     "metadata": {},
     "output_type": "execute_result"
    }
   ],
   "source": [
    "from langchain.docstore.document import Document\n",
    "\n",
    "cur_idx = -1\n",
    "semantic_snippets = []\n",
    "# Assumption: headings have higher font size than their respective content\n",
    "for s in snippets:\n",
    "    # if current snippet's font size > previous section's heading => it is a new heading\n",
    "    if (\n",
    "        not semantic_snippets\n",
    "        or s[1] > semantic_snippets[cur_idx].metadata[\"heading_font\"]\n",
    "    ):\n",
    "        metadata = {\"heading\": s[0], \"content_font\": 0, \"heading_font\": s[1]}\n",
    "        metadata.update(data.metadata)\n",
    "        semantic_snippets.append(Document(page_content=\"\", metadata=metadata))\n",
    "        cur_idx += 1\n",
    "        continue\n",
    "\n",
    "    # if current snippet's font size <= previous section's content => content belongs to the same section (one can also create\n",
    "    # a tree like structure for sub sections if needed but that may require some more thinking and may be data specific)\n",
    "    if (\n",
    "        not semantic_snippets[cur_idx].metadata[\"content_font\"]\n",
    "        or s[1] <= semantic_snippets[cur_idx].metadata[\"content_font\"]\n",
    "    ):\n",
    "        semantic_snippets[cur_idx].page_content += s[0]\n",
    "        semantic_snippets[cur_idx].metadata[\"content_font\"] = max(\n",
    "            s[1], semantic_snippets[cur_idx].metadata[\"content_font\"]\n",
    "        )\n",
    "        continue\n",
    "\n",
    "    # if current snippet's font size > previous section's content but less than previous section's heading than also make a new\n",
    "    # section (e.g. title of a PDF will have the highest font size but we don't want it to subsume all sections)\n",
    "    metadata = {\"heading\": s[0], \"content_font\": 0, \"heading_font\": s[1]}\n",
    "    metadata.update(data.metadata)\n",
    "    semantic_snippets.append(Document(page_content=\"\", metadata=metadata))\n",
    "    cur_idx += 1\n",
    "semantic_snippets\n"
   ]
  }
 ],
 "metadata": {
  "kernelspec": {
   "display_name": ".venv",
   "language": "python",
   "name": "python3"
  },
  "language_info": {
   "codemirror_mode": {
    "name": "ipython",
    "version": 3
   },
   "file_extension": ".py",
   "mimetype": "text/x-python",
   "name": "python",
   "nbconvert_exporter": "python",
   "pygments_lexer": "ipython3",
   "version": "3.12.0"
  }
 },
 "nbformat": 4,
 "nbformat_minor": 2
}
